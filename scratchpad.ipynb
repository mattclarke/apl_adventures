{
 "cells": [
  {
   "cell_type": "markdown",
   "id": "52459876-91ed-4297-b80c-44a8f45792f1",
   "metadata": {},
   "source": [
    "```\n",
    "←\n",
    "+ - × ÷ * ⍟ ⌹ ○ ! ?\n",
    "| ⌈ ⌊ ⊥ ⊤ ⊣ ⊢ \n",
    "= ≠ ≤ < > ≥ ≡ ≢  \n",
    "∨ ∧ ⍲ ⍱  \n",
    "↑ ↓ ⊂ ⊃ ⊆ ⌷ ⍋ ⍒ \n",
    "⍳ ⍸ ∊ ⍷ ∪ ∩ ~ \n",
    "/ \\ ⌿ ⍀  \n",
    ", ⍪ ⍴ ⌽ ⊖ ⍉ \n",
    "¨ ⍨ ⍣ . ∘ ⍤ ⍥ @  \n",
    "⍞ ⎕ ⍠ ⌸ ⌺ ⌶ ⍎ ⍕ \n",
    "⋄ ⍝ → ⍵ ⍺ ∇ &  \n",
    "¯ ⍬ ∆ ⍙\n",
    "```"
   ]
  },
  {
   "cell_type": "code",
   "execution_count": null,
   "id": "514a44da-0aac-4541-b91a-d85be60acf55",
   "metadata": {},
   "outputs": [],
   "source": [
    "⎕IO ← 0            ⍝ Index origin is zero\n",
    "]box on -style=max ⍝ Show boxes at max verbosity\n",
    "]rows on           ⍝ Don't wrap long output lines\n",
    "I←⌷⍨∘⊃⍨⍤0 99       ⍝ Sane indexing"
   ]
  }
 ],
 "metadata": {
  "kernelspec": {
   "display_name": "Dyalog APL",
   "language": "apl",
   "name": "dyalog_apl"
  },
  "language_info": {
   "file_extension": ".apl",
   "mimetype": "text/apl",
   "name": "APL"
  }
 },
 "nbformat": 4,
 "nbformat_minor": 5
}
