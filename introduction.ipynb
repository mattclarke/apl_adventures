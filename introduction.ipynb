{
 "cells": [
  {
   "cell_type": "markdown",
   "id": "7e818dca-c242-4b36-9d84-1a822c9c1714",
   "metadata": {},
   "source": [
    "# An introduction to APL\n",
    "\n",
    "**A** **P**rogramming **L**anguage or **A**rray **P**rogramming **L**anguage\n",
    "\n",
    "- developed in the 1960s by Kenneth E. Iverson (Turing Award winner)\n",
    "- started as a new mathematical notation for manipulating arrays\n",
    "  - -x, x!, |x|, etc.\n",
    "- it reads from right to left! (sort of)\n",
    "- instead of keywords it has a range of symbols!\n",
    "\n",
    "```← +-×÷*⍟⌹○!? |⌈⌊⊥⊤⊣⊢ =≠≤<>≥≡≢ ∨∧⍲⍱ ↑↓⊂⊃⊆⌷⍋⍒ ⍳⍸∊⍷∪∩~ /\\⌿⍀ ,⍪⍴⌽⊖⍉ ¨⍨⍣.∘⍤⍥@ ⍞⎕⍠⌸⌺⌶⍎⍕ ⋄⍝→⍵⍺∇& ¯⍬∆⍙```\n",
    "\n",
    "Warning: it is going to get a little weird from here on."
   ]
  },
  {
   "cell_type": "markdown",
   "id": "f84f50e4-7efc-42b8-b6c4-c3230d677f71",
   "metadata": {
    "editable": true,
    "slideshow": {
     "slide_type": ""
    },
    "tags": []
   },
   "source": [
    "### Some setup"
   ]
  },
  {
   "cell_type": "code",
   "execution_count": null,
   "id": "7978d522-db7e-43d6-ae60-229a3a7d81de",
   "metadata": {},
   "outputs": [],
   "source": [
    "⎕IO ← 0            ⍝ Index origin is zero\n",
    "]box on -style=max ⍝ Show boxes at max verbosity\n",
    "]rows on           ⍝ Don't wrap long output lines"
   ]
  },
  {
   "cell_type": "markdown",
   "id": "ac648193-3977-4023-9b3f-5f47138ca3db",
   "metadata": {},
   "source": [
    "Comments are indicated using 'lamp' ⍝"
   ]
  },
  {
   "cell_type": "markdown",
   "id": "1b1d7b6d-74cd-4d06-9dfa-ceac2affc470",
   "metadata": {},
   "source": [
    "## Reading right to left"
   ]
  },
  {
   "cell_type": "code",
   "execution_count": null,
   "id": "7a004993-cfad-43ce-af64-1f113a8cffa4",
   "metadata": {},
   "outputs": [],
   "source": [
    "5 - 3 - 1\n",
    "5 - (3 - 1)\n",
    "(5 - 3) - 1"
   ]
  },
  {
   "cell_type": "markdown",
   "id": "1c9d0860-5b43-4623-9830-c1bfdcb43e6f",
   "metadata": {},
   "source": [
    "## It is (mostly) arrays all the way down!"
   ]
  },
  {
   "cell_type": "markdown",
   "id": "83c7ccb2-6e14-41f0-b295-0d8ef6bf3c01",
   "metadata": {},
   "source": [
    "Creating a 1D array:"
   ]
  },
  {
   "cell_type": "code",
   "execution_count": null,
   "id": "fa50c57d-bdca-4c4a-b924-cd613a02b0ac",
   "metadata": {},
   "outputs": [],
   "source": [
    "1 2 3 4"
   ]
  },
  {
   "cell_type": "markdown",
   "id": "d8aaa492-ddc7-4365-bd0a-10571fd83105",
   "metadata": {},
   "source": [
    "Creating an array of arrays:"
   ]
  },
  {
   "cell_type": "code",
   "execution_count": null,
   "id": "77213490-b8de-4819-bc97-cefd16df1b3c",
   "metadata": {},
   "outputs": [],
   "source": [
    "(1 2 3 4) (2 5 8 6) (8 6 2 3) (8 7 6 1)"
   ]
  },
  {
   "cell_type": "markdown",
   "id": "d1488c98-59b7-46c8-b761-0d8019047441",
   "metadata": {},
   "source": [
    "Creating a matrix"
   ]
  },
  {
   "cell_type": "code",
   "execution_count": null,
   "id": "552fa7ef-fa10-4024-a01d-18dd6b8dbbae",
   "metadata": {},
   "outputs": [],
   "source": [
    "↑(1 2 3 4) (2 5 8 6) (8 6 2 3) (8 7 6 1)"
   ]
  },
  {
   "cell_type": "markdown",
   "id": "ceef5e47-7711-4eef-86ef-0f495c4809b7",
   "metadata": {},
   "source": [
    "↑ is called \"up arrow\" and represents \"mix\" (reduces the depth of nesting)"
   ]
  },
  {
   "cell_type": "code",
   "execution_count": null,
   "id": "b3add59d-eac2-44b3-81a8-3ae524ad219d",
   "metadata": {},
   "outputs": [],
   "source": [
    "≡ (1 2 3 4) (2 5 8 6) (8 6 2 3) (8 7 6 1)        ⍝ Depth = 2\n",
    "≡↑ (1 2 3 4) (2 5 8 6) (8 6 2 3) (8 7 6 1)       ⍝ Depth = 1"
   ]
  },
  {
   "cell_type": "markdown",
   "id": "971d8d93-ea5c-4e84-a39c-4c16ed14f8a5",
   "metadata": {},
   "source": [
    "≡ is called \"equal underbar and gets the \"depth\""
   ]
  },
  {
   "cell_type": "code",
   "execution_count": null,
   "id": "e37576f2-428a-4f48-a662-6d90b951c689",
   "metadata": {},
   "outputs": [],
   "source": [
    "≢ 1 2 3 4\n",
    "≢ (1 2 3 4) (2 5 8 6) (8 6 2 3) (8 7 6 1)\n",
    "≢ 'hello'"
   ]
  },
  {
   "cell_type": "markdown",
   "id": "e650e35b-273e-4502-a228-13ed849747e1",
   "metadata": {},
   "source": [
    "≢ (tally) is roughly equivalent to len() in Python"
   ]
  },
  {
   "cell_type": "markdown",
   "id": "aeec348d-3776-48d7-99f3-5f3ffb5d5fb1",
   "metadata": {},
   "source": [
    "⍴ is \"rho\" and gets the shape"
   ]
  },
  {
   "cell_type": "code",
   "execution_count": null,
   "id": "dc371ab8-7c59-4c36-87cb-30ef588a9569",
   "metadata": {},
   "outputs": [],
   "source": [
    "⍴ 1 2 3 4"
   ]
  },
  {
   "cell_type": "code",
   "execution_count": null,
   "id": "e5a71003-01de-4c55-9044-62d36936d605",
   "metadata": {},
   "outputs": [],
   "source": [
    "⍴↑(1 2 3 4) (2 5 8 6) (8 6 2 3)"
   ]
  },
  {
   "cell_type": "markdown",
   "id": "0a1f5a6e-ef3b-487b-aeb9-a99d64f17cea",
   "metadata": {},
   "source": [
    "Finally, APL doesn't like ragged arrays when \"mixing\" (and other similar operations)"
   ]
  },
  {
   "cell_type": "code",
   "execution_count": null,
   "id": "5a9ff6fd-850a-4830-847c-ce505fe5caa1",
   "metadata": {},
   "outputs": [],
   "source": [
    "↑(1 2 3 4) (2 5 8 6) (8 6 2 3) (8 7)  ⍝ Note that the last set has only two numbers"
   ]
  },
  {
   "cell_type": "markdown",
   "id": "63cd3559-bad1-4841-881a-d5c7afc427d4",
   "metadata": {},
   "source": [
    "## Introducing maths operators"
   ]
  },
  {
   "cell_type": "code",
   "execution_count": null,
   "id": "e751013e-1578-48a8-a67c-ddb368a978aa",
   "metadata": {},
   "outputs": [],
   "source": [
    "1 2 3 4 = 1 3 5 4"
   ]
  },
  {
   "cell_type": "code",
   "execution_count": null,
   "id": "52f95d35-d518-4876-a271-e59bc9dba69a",
   "metadata": {},
   "outputs": [],
   "source": [
    "1 2 3 + 4 5 6\n",
    "2 + 1 2 3\n",
    "1 2 3 + 2"
   ]
  },
  {
   "cell_type": "code",
   "execution_count": null,
   "id": "1b1b9546-7356-4fee-9cd7-737aca38e4e4",
   "metadata": {},
   "outputs": [],
   "source": [
    "1 2 3 - 4 5 6"
   ]
  },
  {
   "cell_type": "markdown",
   "id": "3f3becfc-3851-4e14-a188-3fe152dbb406",
   "metadata": {},
   "source": [
    "Note the use of the \"high minus\" symbol"
   ]
  },
  {
   "cell_type": "code",
   "execution_count": null,
   "id": "24efe2fd-cf21-4ea8-b296-122eb5f941f1",
   "metadata": {},
   "outputs": [],
   "source": [
    "1 2 3 * 4 5 6"
   ]
  },
  {
   "cell_type": "code",
   "execution_count": null,
   "id": "2b49ca85-d590-46a9-a6e9-573ff5a81474",
   "metadata": {},
   "outputs": [],
   "source": [
    "4 4 4 / 2 2 2"
   ]
  },
  {
   "cell_type": "markdown",
   "id": "24f962de-a949-40dd-9c92-30d8ee443cf5",
   "metadata": {},
   "source": [
    "### What just happened?"
   ]
  },
  {
   "cell_type": "code",
   "execution_count": null,
   "id": "5be6837d-66f5-466b-b441-984579863d47",
   "metadata": {},
   "outputs": [],
   "source": [
    "1 2 3 × 4 5 6"
   ]
  },
  {
   "cell_type": "code",
   "execution_count": null,
   "id": "bf22853b-641b-444a-9069-250cd6f074c3",
   "metadata": {},
   "outputs": [],
   "source": [
    "4 4 4 ÷ 2 2 2"
   ]
  },
  {
   "cell_type": "markdown",
   "id": "3fb9221c-0fd8-4a4f-ae1c-b238a1622ba4",
   "metadata": {},
   "source": [
    "`*` represents \"exponential\" and / represents \"replicate\""
   ]
  },
  {
   "cell_type": "markdown",
   "id": "ae2bd0e0-9fa0-4b7f-90c2-85333a0cd29d",
   "metadata": {},
   "source": [
    "Any other gotchas? Well actually..."
   ]
  },
  {
   "cell_type": "code",
   "execution_count": null,
   "id": "ad22beb9-6ee5-4fcd-9b11-fcbaa0cb36d1",
   "metadata": {},
   "outputs": [],
   "source": [
    "-1 2 -3   ⍝ Let's create an array with some negative numbers in it."
   ]
  },
  {
   "cell_type": "markdown",
   "id": "f64c0b3c-ecf3-4ef4-af7c-bc132f6e0ab4",
   "metadata": {},
   "source": [
    "Remember it reads from right to left..."
   ]
  },
  {
   "cell_type": "code",
   "execution_count": null,
   "id": "c38cad15-5617-47af-a99c-6922c2cb74bd",
   "metadata": {},
   "outputs": [],
   "source": [
    "-(1 2 -3)"
   ]
  },
  {
   "cell_type": "code",
   "execution_count": null,
   "id": "05be4545-ebdc-4e9f-b016-4b0a456402e3",
   "metadata": {},
   "outputs": [],
   "source": [
    "¯1 2 ¯3"
   ]
  },
  {
   "cell_type": "markdown",
   "id": "e82fcfbc-49e2-4178-b5e0-1e2c8769215a",
   "metadata": {},
   "source": [
    "## Monadic vs dyadic functions\n",
    "Less scary than it sounds!"
   ]
  },
  {
   "cell_type": "code",
   "execution_count": null,
   "id": "f5b1ece5-b69f-454f-a7e9-2ddad460d83e",
   "metadata": {},
   "outputs": [],
   "source": [
    "2 ÷ 4 6 9"
   ]
  },
  {
   "cell_type": "markdown",
   "id": "d187e1c2-8298-45d3-90a1-e0c70e7a95b5",
   "metadata": {},
   "source": [
    "Dyadic is used when the symbol/operator/function has values both sides (as above)"
   ]
  },
  {
   "cell_type": "code",
   "execution_count": null,
   "id": "f3662b5e-6b85-4860-8b4e-dbaca76bfbd0",
   "metadata": {},
   "outputs": [],
   "source": [
    "÷ 4 6 9"
   ]
  },
  {
   "cell_type": "markdown",
   "id": "2d52fc74-9691-4e0a-b656-98eb510be834",
   "metadata": {},
   "source": [
    "Monadic is when there are only values to the right."
   ]
  },
  {
   "cell_type": "markdown",
   "id": "6138c012-506b-415a-b615-e74e2e04f3f4",
   "metadata": {},
   "source": [
    "In which case something different happens - in this case, reciprocation."
   ]
  },
  {
   "cell_type": "markdown",
   "id": "6d130c9e-1211-46b5-bcae-7ffd018dfd29",
   "metadata": {},
   "source": [
    "Not all operators have both a monadic and dyadic form (e.g., high minus)"
   ]
  },
  {
   "cell_type": "markdown",
   "id": "b18ec732-7264-473d-b2b5-ea5e82e7e9be",
   "metadata": {},
   "source": [
    "## Exploring some symbols"
   ]
  },
  {
   "cell_type": "code",
   "execution_count": null,
   "id": "35f61a1d-8bb0-4240-92d5-2641dae5c411",
   "metadata": {},
   "outputs": [],
   "source": [
    "values ← 1 2 3\n",
    "⎕ ← values"
   ]
  },
  {
   "cell_type": "markdown",
   "id": "3735cfe7-fd76-40e6-8b1a-00dd7aa71048",
   "metadata": {},
   "source": [
    "← (left arrow) is used for assignment and modification.\n",
    "\n",
    "⎕ (quad) represents standard out (and also standard in!)"
   ]
  },
  {
   "cell_type": "code",
   "execution_count": null,
   "id": "288abde4-0d53-40f1-90b8-880d5d164a8d",
   "metadata": {},
   "outputs": [],
   "source": [
    "? 6 6           ⍝ Roll\n",
    "13 ? 52         ⍝ Deal"
   ]
  },
  {
   "cell_type": "code",
   "execution_count": null,
   "id": "a99460f0-ba68-44e6-9658-602215c5dab1",
   "metadata": {},
   "outputs": [],
   "source": [
    "1 0 1 0 1 / 'Heart'         ⍝ Replicate (as seen above)"
   ]
  },
  {
   "cell_type": "code",
   "execution_count": null,
   "id": "7d4f683c-b7d7-4ecb-b89a-358998e99ab4",
   "metadata": {},
   "outputs": [],
   "source": [
    "+/ 1 2 3         ⍝ Reduce\n",
    "×/ 1 2 3         ⍝ Reduce"
   ]
  },
  {
   "cell_type": "markdown",
   "id": "c561e526-5fa4-47a3-9b65-12b44f85b0fc",
   "metadata": {},
   "source": [
    "Reduce is very powerful, as is its partner in crime, map"
   ]
  },
  {
   "cell_type": "code",
   "execution_count": null,
   "id": "c4b3fb90-9c25-4e32-8224-7a17b81b7fdf",
   "metadata": {},
   "outputs": [],
   "source": [
    "{⍵ + 2}¨ 1 2 3"
   ]
  },
  {
   "cell_type": "markdown",
   "id": "7014a4c8-036b-4113-844f-0b2015f94803",
   "metadata": {},
   "source": [
    "¨ (diaeresis) represents the map function.\n",
    "\n",
    "⍵ (omega) represents the item on the right.\n",
    "\n",
    "{} represents a lambda function."
   ]
  },
  {
   "cell_type": "code",
   "execution_count": null,
   "id": "7ba37f9f-b09a-4b3d-be2c-2ea38bb854a8",
   "metadata": {},
   "outputs": [],
   "source": [
    "⌈ 1.1 2.2       ⍝ Ceiling\n",
    "1 2 3 ⌈ 3 2 1   ⍝ Maximum (pair-wise)\n",
    "\n",
    "⌈/ 1 2 3 4      ⍝ Maximum"
   ]
  },
  {
   "cell_type": "markdown",
   "id": "49756b1e-4572-4500-95c6-dd4486922e4a",
   "metadata": {},
   "source": [
    "⌈ (upstile) has an opposite: ⌊ (downstile) that does floor and minimum."
   ]
  },
  {
   "cell_type": "markdown",
   "id": "6f1a5325-ebb8-4f89-a643-fa0ae992f117",
   "metadata": {},
   "source": [
    "## Some examples"
   ]
  },
  {
   "cell_type": "code",
   "execution_count": null,
   "id": "6a7a3e33-ceb5-4a09-a62b-ced0630b295b",
   "metadata": {},
   "outputs": [],
   "source": [
    "{+/⍵÷≢⍵} 1 2 3 4      ⍝ Any guesses what this does?"
   ]
  },
  {
   "cell_type": "code",
   "execution_count": null,
   "id": "1c4c19b6-84e8-48b4-ba85-464c7134b0c5",
   "metadata": {},
   "outputs": [],
   "source": [
    "{×/⍵*2}¨ 1 2 3        ⍝ Any guesses what this does?"
   ]
  },
  {
   "cell_type": "markdown",
   "id": "fec8af9f-891e-422b-b60f-65bd2cec0d71",
   "metadata": {},
   "source": [
    "Was that unexpected?\n",
    "\n",
    "Perhaps you were thinking of this?"
   ]
  },
  {
   "cell_type": "code",
   "execution_count": null,
   "id": "c0ced169-3609-4b0c-9835-1e845e80a4ab",
   "metadata": {},
   "outputs": [],
   "source": [
    "×/{⍵*2}¨ 1 2 3"
   ]
  },
  {
   "cell_type": "markdown",
   "id": "bafb936c-c52c-4bc3-a7b8-251257e5cfee",
   "metadata": {},
   "source": [
    "Or this?"
   ]
  },
  {
   "cell_type": "code",
   "execution_count": null,
   "id": "8e32882e-b4a8-426a-90e1-c22b02f722f8",
   "metadata": {},
   "outputs": [],
   "source": [
    "{×/⍵*2} 1 2 3"
   ]
  },
  {
   "cell_type": "markdown",
   "id": "b915c96b-c1ed-4fd1-9086-f06ddd1d6734",
   "metadata": {},
   "source": [
    "The important thing to remember is `¨` puts the values in one by one whereas the non-map version takes the whole array at once.\n",
    "\n",
    "However, when one takes right to left precedence into account we see that even calculating the average is slightly unorthodox..."
   ]
  },
  {
   "cell_type": "code",
   "execution_count": null,
   "id": "ed8ff82e-be9e-414b-8506-e989aaf70bb7",
   "metadata": {},
   "outputs": [],
   "source": [
    "{+/⍵÷≢⍵} 1 2 3 4\n",
    "{+/⍵÷4} 1 2 3 4\n",
    "{+/0.25 0.5 0.75 1} 1 2 3 4"
   ]
  },
  {
   "cell_type": "markdown",
   "id": "22ec3ffe-d60a-431b-bc30-ef0d94841872",
   "metadata": {},
   "source": [
    "## Functions\n",
    "We have actually seen some already as lambdas, like `{+/⍵÷≢⍵}`; however, \n",
    "like values they can be assigned a name"
   ]
  },
  {
   "cell_type": "code",
   "execution_count": null,
   "id": "0ebbfa2c-6474-494d-8827-702784cbf362",
   "metadata": {},
   "outputs": [],
   "source": [
    "average ← {+/⍵÷≢⍵}"
   ]
  },
  {
   "cell_type": "markdown",
   "id": "4a0c35de-63be-465b-917b-89e23afb0664",
   "metadata": {},
   "source": [
    "We can write it in a more verbose style:\n",
    "```\n",
    "average ← {\n",
    "  total ← +/⍵\n",
    "  num_elements ← ≢⍵\n",
    "  total ÷ num_elements        ⍝ Last line provides the return value\n",
    "}\n",
    "```\n",
    "This is more like what \"real\" code looks like.\n",
    "\n",
    "http://dfns.dyalog.com/min_scode.htm\n",
    "\n",
    "Though there is plenty of code golf out there."
   ]
  },
  {
   "cell_type": "code",
   "execution_count": null,
   "id": "4ee61c52-ade4-4ac1-9e99-6b48ceb8e4d5",
   "metadata": {},
   "outputs": [],
   "source": []
  }
 ],
 "metadata": {
  "kernelspec": {
   "display_name": "Dyalog APL",
   "language": "apl",
   "name": "dyalog_apl"
  },
  "language_info": {
   "file_extension": ".apl",
   "mimetype": "text/apl",
   "name": "APL"
  }
 },
 "nbformat": 4,
 "nbformat_minor": 5
}
