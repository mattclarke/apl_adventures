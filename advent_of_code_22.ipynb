{
 "cells": [
  {
   "cell_type": "code",
   "execution_count": null,
   "id": "b4b8c4de-a388-4603-a406-f62a8e19967b",
   "metadata": {
    "editable": true,
    "slideshow": {
     "slide_type": ""
    },
    "tags": []
   },
   "outputs": [],
   "source": [
    "⎕IO ← 0            ⍝ Index origin is zero\n",
    "]box on -style=max ⍝ Show boxes at max verbosity\n",
    "]rows on           ⍝ Don't wrap long output lines\n",
    "I←⌷⍨∘⊃⍨⍤0 99       ⍝ Sane indexing"
   ]
  },
  {
   "cell_type": "markdown",
   "id": "c134cd69-1c86-4d61-b691-2a3092b23227",
   "metadata": {},
   "source": [
    "## Day 1"
   ]
  },
  {
   "cell_type": "markdown",
   "id": "81abb048-18de-4488-9137-687ac8d56bd6",
   "metadata": {},
   "source": [
    "### Part 1: find the biggest \"group\""
   ]
  },
  {
   "cell_type": "code",
   "execution_count": null,
   "id": "96c2ebeb-967f-4e3c-af4b-e810368f56de",
   "metadata": {},
   "outputs": [],
   "source": [
    "⎕ ← input ← ↑(1000 2000 3000) (4000) (5000 6000) (7000 8000 9000) (10000)"
   ]
  },
  {
   "cell_type": "code",
   "execution_count": null,
   "id": "c5c50ef7-5835-4eab-868a-aefa7edf4734",
   "metadata": {},
   "outputs": [],
   "source": [
    "+/input"
   ]
  },
  {
   "cell_type": "markdown",
   "id": "3215e485-d2b1-43c1-8af9-150e32a1ed1e",
   "metadata": {},
   "source": [
    "The trick here is that reduce works on one row at a time."
   ]
  },
  {
   "cell_type": "markdown",
   "id": "d21026ff-b01d-4833-ae97-78e1ed1883a2",
   "metadata": {},
   "source": [
    "⌿ (slash bar) reduces over columns. For example:"
   ]
  },
  {
   "cell_type": "code",
   "execution_count": null,
   "id": "e11e50bf-e471-48c7-bea4-20a249718e80",
   "metadata": {},
   "outputs": [],
   "source": [
    "+⌿input"
   ]
  },
  {
   "cell_type": "markdown",
   "id": "e72a1ec8-5138-4322-8460-5fa058314673",
   "metadata": {},
   "source": [
    "Back to the puzzle"
   ]
  },
  {
   "cell_type": "code",
   "execution_count": null,
   "id": "71dc73f7-ab05-4479-b4aa-428d83ed90b3",
   "metadata": {},
   "outputs": [],
   "source": [
    "⌈/+/input"
   ]
  },
  {
   "cell_type": "markdown",
   "id": "7bed181c-cada-4b69-8d4e-90569dfb2492",
   "metadata": {},
   "source": [
    "### Part 2: find the total of the three biggest groups"
   ]
  },
  {
   "cell_type": "code",
   "execution_count": null,
   "id": "f2e7c246-1f33-4a20-88b4-cf90acec7677",
   "metadata": {},
   "outputs": [],
   "source": [
    "⍒+/input"
   ]
  },
  {
   "cell_type": "code",
   "execution_count": null,
   "id": "09f8ac61-4b84-472b-89bb-57a969b60817",
   "metadata": {},
   "outputs": [],
   "source": [
    "3↑⍒+/input"
   ]
  },
  {
   "cell_type": "markdown",
   "id": "b637257a-91ef-4f20-8d27-33adf65c845d",
   "metadata": {},
   "source": [
    "#### A brief diversion into indexing"
   ]
  },
  {
   "cell_type": "code",
   "execution_count": null,
   "id": "356037cf-85e2-45a2-bb1c-069cd972a6cb",
   "metadata": {},
   "outputs": [],
   "source": [
    "input[0; 2]    ⍝ regular-style indexing, not very APL like (not right to left, not monadic or dyadic)"
   ]
  },
  {
   "cell_type": "code",
   "execution_count": null,
   "id": "8c178ad3-3fde-47d3-9d85-54595da490d5",
   "metadata": {},
   "outputs": [],
   "source": [
    "0 2 ⌷ input   ⍝ squad indexing (more APL-like, but has weird edge cases)"
   ]
  },
  {
   "cell_type": "code",
   "execution_count": null,
   "id": "6d72eae8-abe3-4331-b7f6-e2c213aa5f7a",
   "metadata": {},
   "outputs": [],
   "source": [
    "(⊂0 2) I input   ⍝ sane indexing (more APL-like, but unofficial)"
   ]
  },
  {
   "cell_type": "code",
   "execution_count": null,
   "id": "8bc327b0-b9a7-4561-8885-648fa29451c3",
   "metadata": {},
   "outputs": [],
   "source": [
    "input[0 1;]"
   ]
  },
  {
   "cell_type": "code",
   "execution_count": null,
   "id": "94ec2f2f-144c-4386-9edb-fe16defdf022",
   "metadata": {},
   "outputs": [],
   "source": [
    "(⊂0 1) ⌷ input"
   ]
  },
  {
   "cell_type": "code",
   "execution_count": null,
   "id": "98e2677b-3d2a-4a7e-b905-f0a892384e32",
   "metadata": {},
   "outputs": [],
   "source": [
    "0 1 I input"
   ]
  },
  {
   "cell_type": "markdown",
   "id": "e70c38ec-4382-4706-8ccd-8061a8b7610f",
   "metadata": {},
   "source": [
    "#### Back to the puzzle"
   ]
  },
  {
   "cell_type": "code",
   "execution_count": null,
   "id": "5a621cbf-c9b0-44bf-b02f-27cd8487d2f7",
   "metadata": {},
   "outputs": [],
   "source": [
    "(3↑⍒+/input)I+/input"
   ]
  },
  {
   "cell_type": "code",
   "execution_count": null,
   "id": "c6e4859a-1fe6-4dc6-8a94-8d01f9983427",
   "metadata": {},
   "outputs": [],
   "source": [
    "+/(3↑⍒+/input)I+/input"
   ]
  },
  {
   "cell_type": "code",
   "execution_count": null,
   "id": "9b4ce7ec-cec0-4055-8de7-9b2320d2d1c8",
   "metadata": {},
   "outputs": [],
   "source": [
    "{+/(3↑⍒+/⍵)I+/⍵}input"
   ]
  },
  {
   "cell_type": "markdown",
   "id": "9dc8c2bd-85ba-4343-bb99-a2b3cd1a2252",
   "metadata": {},
   "source": [
    "### Final answer"
   ]
  },
  {
   "cell_type": "code",
   "execution_count": null,
   "id": "2a49a414-6315-4a1c-85ab-0cec7a44498d",
   "metadata": {},
   "outputs": [],
   "source": [
    "summed ← +/input\n",
    "⎕ ← 'Part 1: ',⍕⌈/summed\n",
    "highest_three ← {(3↑⍒⍵)I⍵}summed\n",
    "⎕ ← 'Part 2: ',⍕+/highest_three"
   ]
  },
  {
   "cell_type": "markdown",
   "id": "085ecb93-6e38-4c65-a0e0-6bfcba80fd29",
   "metadata": {},
   "source": [
    "## Day 3"
   ]
  },
  {
   "cell_type": "markdown",
   "id": "c0304757-e866-4765-bf50-9aa19530dfaa",
   "metadata": {},
   "source": [
    "### Part 1: find the letter that appears in both halves of the string"
   ]
  },
  {
   "cell_type": "code",
   "execution_count": null,
   "id": "436e4a8f-4349-4ae3-a0bd-5ffbf658d968",
   "metadata": {},
   "outputs": [],
   "source": [
    "⎕ ← input ← 'vJrwpWtwJgWrhcsFMMfFFhFp' 'jqHRNqRjqzjGDLGLrsFMfFZSrLrFZsSL' 'PmmdzqPrVvPwwTWBwg' 'wMqvLMZHhHMvwLHjbvcjnnSBnvTQFn' 'ttgJtRGJQctTZtZT' 'CrZsJsPPZsGzwwsLwLmpwMDw'"
   ]
  },
  {
   "cell_type": "code",
   "execution_count": null,
   "id": "b7ac5797-b1b8-4f1c-b4eb-6be8ea58c96d",
   "metadata": {},
   "outputs": [],
   "source": [
    "⎕ ← example ←'vJrwpWtwJgWrhcsFMMfFFhFp'   ⍝ Let's start with just one string"
   ]
  },
  {
   "cell_type": "code",
   "execution_count": null,
   "id": "e06ce913-1d52-4332-ba91-1b83a14c7812",
   "metadata": {},
   "outputs": [],
   "source": [
    "⎕ ← half ← {(≢⍵)÷2} example      ⍝ () used to affect evaluation order, like in maths"
   ]
  },
  {
   "cell_type": "code",
   "execution_count": null,
   "id": "67ec5d88-6233-489b-b01f-d2e2e6fdcd15",
   "metadata": {},
   "outputs": [],
   "source": [
    "2 half ⍴ example"
   ]
  },
  {
   "cell_type": "markdown",
   "id": "cdbdf344-7905-4a97-97d0-48a8369d8e0e",
   "metadata": {},
   "source": [
    "Dyadic ⍴ is used to reshape data (rows then columns)"
   ]
  },
  {
   "cell_type": "markdown",
   "id": "ad7609f7-49ee-4e0c-9d99-f2712962cf3e",
   "metadata": {},
   "source": [
    "↓ (down arrow) is \"split\", it increases the depth "
   ]
  },
  {
   "cell_type": "code",
   "execution_count": null,
   "id": "2f7df4f2-eacb-4803-a6cc-8df64e7aa6ee",
   "metadata": {},
   "outputs": [],
   "source": [
    "↓2 half ⍴ example"
   ]
  },
  {
   "cell_type": "markdown",
   "id": "e5f47e4f-9913-43ed-a93e-243b26f55cb2",
   "metadata": {},
   "source": [
    "∩ (up shoe) returns the intersection between both sides"
   ]
  },
  {
   "cell_type": "code",
   "execution_count": null,
   "id": "e8474173-31a6-4da8-b889-9faa10942887",
   "metadata": {},
   "outputs": [],
   "source": [
    "∩/↓2 half ⍴ example"
   ]
  },
  {
   "cell_type": "code",
   "execution_count": null,
   "id": "82d2be5a-df34-4dde-a294-a9de56c3ada6",
   "metadata": {},
   "outputs": [],
   "source": [
    "{∩/↓2 ((≢⍵)÷2) ⍴⍵} example"
   ]
  },
  {
   "cell_type": "code",
   "execution_count": null,
   "id": "e6d2b345-9c1f-472c-aec5-2695947ca88f",
   "metadata": {},
   "outputs": [],
   "source": [
    "{∩/↓2 ((≢⍵)÷2) ⍴⍵}¨input"
   ]
  },
  {
   "cell_type": "markdown",
   "id": "99a7c2fb-8f8a-460b-8d7d-9cec659405c0",
   "metadata": {},
   "source": [
    "So close to being so awesome!"
   ]
  },
  {
   "cell_type": "markdown",
   "id": "dcf1b35a-c4ea-4912-88e7-bd7794b1f2be",
   "metadata": {},
   "source": [
    "∪ (down shoe) represents unique"
   ]
  },
  {
   "cell_type": "code",
   "execution_count": null,
   "id": "d63de76f-57fe-4759-af86-253d3d729f9b",
   "metadata": {},
   "outputs": [],
   "source": [
    "{∪¨∩/↓2 ((≢⍵)÷2) ⍴⍵}¨input"
   ]
  },
  {
   "cell_type": "markdown",
   "id": "5a278a08-a9e6-4147-83ae-c65cd4eb0d8e",
   "metadata": {},
   "source": [
    "### Part 2: find the letters that appears in groups of three"
   ]
  },
  {
   "cell_type": "code",
   "execution_count": null,
   "id": "7543349c-974a-4380-9d03-9c38eaf6c729",
   "metadata": {},
   "outputs": [],
   "source": [
    "2 3 ⍴ input"
   ]
  },
  {
   "cell_type": "code",
   "execution_count": null,
   "id": "1cdcdb65-ebb7-4a39-a131-d137a409a668",
   "metadata": {},
   "outputs": [],
   "source": [
    "∩/2 3 ⍴ input"
   ]
  },
  {
   "cell_type": "code",
   "execution_count": null,
   "id": "1dcaee9e-97eb-4bcf-9028-98507b4af3a2",
   "metadata": {},
   "outputs": [],
   "source": [
    "∪¨∩/2 3 ⍴ input"
   ]
  },
  {
   "cell_type": "markdown",
   "id": "826014c1-19eb-4bd8-b5bc-86ac955a1f43",
   "metadata": {},
   "source": [
    "# Further viewing\n",
    "- https://www.youtube.com/watch?v=a9xAKttWgP4 🤯"
   ]
  }
 ],
 "metadata": {
  "kernelspec": {
   "display_name": "Dyalog APL",
   "language": "apl",
   "name": "dyalog_apl"
  },
  "language_info": {
   "file_extension": ".apl",
   "mimetype": "text/apl",
   "name": "APL"
  }
 },
 "nbformat": 4,
 "nbformat_minor": 5
}
